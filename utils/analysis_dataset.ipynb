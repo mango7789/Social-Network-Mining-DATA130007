{
 "cells": [
  {
   "cell_type": "markdown",
   "metadata": {},
   "source": [
    "## TODO\n",
    "- `id`: Count the number of being cited, plot the distribution of citation\n",
    "- `authors`: Number of published papers, number of being cited. Analysis for each org.\n",
    "- `venue`: Count the number of papers for each venue, plot top-$k$\n",
    "- `year`: Word cloud for each year(using keywords / fos), number of papers each year\n",
    "  > How to calculate the importance of each paper? multiply citation with weight? \n",
    "- `doc_type`: Count the number and proportion of each type, visualize using curve and pie"
   ]
  },
  {
   "cell_type": "markdown",
   "metadata": {},
   "source": [
    "## Initialization"
   ]
  },
  {
   "cell_type": "code",
   "execution_count": 3,
   "metadata": {},
   "outputs": [
    {
     "name": "stdout",
     "output_type": "stream",
     "text": [
      "['dblp_v14_1.json', 'dblp_v14_10.json', 'dblp_v14_11.json', 'dblp_v14_12.json', 'dblp_v14_13.json', 'dblp_v14_14.json', 'dblp_v14_15.json', 'dblp_v14_16.json', 'dblp_v14_17.json', 'dblp_v14_18.json', 'dblp_v14_19.json', 'dblp_v14_2.json', 'dblp_v14_20.json', 'dblp_v14_21.json', 'dblp_v14_22.json', 'dblp_v14_23.json', 'dblp_v14_24.json', 'dblp_v14_25.json', 'dblp_v14_26.json', 'dblp_v14_27.json', 'dblp_v14_28.json', 'dblp_v14_29.json', 'dblp_v14_3.json', 'dblp_v14_30.json', 'dblp_v14_31.json', 'dblp_v14_4.json', 'dblp_v14_5.json', 'dblp_v14_6.json', 'dblp_v14_7.json', 'dblp_v14_8.json', 'dblp_v14_9.json']\n"
     ]
    }
   ],
   "source": [
    "# Get the relative path of the dataset\n",
    "dataset_type = \"l\"  # \"s\"\n",
    "match dataset_type:\n",
    "    case \"s\":\n",
    "        dataset_path = \"../data/small\"\n",
    "    case \"S\":\n",
    "        dataset_path = \"../data/small\"\n",
    "    case \"l\":\n",
    "        dataset_path = \"../data/large\"\n",
    "    case \"L\":\n",
    "        dataset_path = \"../data/large\"\n",
    "    case _:\n",
    "        raise ValueError()\n",
    "\n",
    "import os\n",
    "dataset_chunks = os.listdir(dataset_path) \n",
    "print(dataset_chunks)               "
   ]
  },
  {
   "cell_type": "code",
   "execution_count": 1,
   "metadata": {},
   "outputs": [],
   "source": [
    "# Initialize the data structure for storing statistics\n",
    "from collections import defaultdict\n",
    "\n",
    "paper_citation = defaultdict(int)\n",
    "authors_statistic = defaultdict(lambda: [0, 0])\n",
    "venue_papers = defaultdict(int)\n",
    "year_num_papers = defaultdict(int)\n",
    "year_fos_weight = defaultdict(dict)\n",
    "doc_type_count = defaultdict(int)"
   ]
  }
 ],
 "metadata": {
  "kernelspec": {
   "display_name": "Python 3",
   "language": "python",
   "name": "python3"
  },
  "language_info": {
   "codemirror_mode": {
    "name": "ipython",
    "version": 3
   },
   "file_extension": ".py",
   "mimetype": "text/x-python",
   "name": "python",
   "nbconvert_exporter": "python",
   "pygments_lexer": "ipython3",
   "version": "3.11.9"
  }
 },
 "nbformat": 4,
 "nbformat_minor": 2
}
