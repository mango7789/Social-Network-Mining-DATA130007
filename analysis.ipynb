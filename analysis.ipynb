{
 "cells": [
  {
   "cell_type": "markdown",
   "metadata": {},
   "source": [
    "## 1. Preliminary"
   ]
  },
  {
   "cell_type": "code",
   "execution_count": 1,
   "metadata": {},
   "outputs": [],
   "source": [
    "%load_ext autoreload\n",
    "%autoreload 2"
   ]
  },
  {
   "cell_type": "code",
   "execution_count": 2,
   "metadata": {},
   "outputs": [],
   "source": [
    "import pandas as pd\n",
    "from pathlib import Path\n",
    "import yaml\n",
    "import matplotlib.pyplot as plt\n",
    "import seaborn as sns\n",
    "\n",
    "sns.set_theme()\n",
    "from utils import load_records_from_csv"
   ]
  },
  {
   "cell_type": "markdown",
   "metadata": {},
   "source": [
    "## 2. Load and inspect the dataset"
   ]
  },
  {
   "cell_type": "code",
   "execution_count": 3,
   "metadata": {},
   "outputs": [],
   "source": [
    "# Load config file and get the path of csv files\n",
    "with open(\"./config/config.yaml\", \"r\") as file:\n",
    "    config = yaml.safe_load(file)\n",
    "PAPER_LIST = Path(config[\"data\"][\"paper\"][\"list\"])\n",
    "PAPER_LIST = Path(PAPER_LIST)"
   ]
  },
  {
   "cell_type": "code",
   "execution_count": 4,
   "metadata": {},
   "outputs": [],
   "source": [
    "df_combined = load_records_from_csv(PAPER_LIST)"
   ]
  },
  {
   "cell_type": "code",
   "execution_count": 5,
   "metadata": {},
   "outputs": [],
   "source": [
    "# Expand the authors and references to original list\n",
    "df_combined['authors'] = df_combined['authors'].str.split('#')\n",
    "df_combined['references'] = df_combined['references'].str.split('#')"
   ]
  },
  {
   "cell_type": "code",
   "execution_count": 6,
   "metadata": {},
   "outputs": [
    {
     "data": {
      "text/html": [
       "<div>\n",
       "<style scoped>\n",
       "    .dataframe tbody tr th:only-of-type {\n",
       "        vertical-align: middle;\n",
       "    }\n",
       "\n",
       "    .dataframe tbody tr th {\n",
       "        vertical-align: top;\n",
       "    }\n",
       "\n",
       "    .dataframe thead th {\n",
       "        text-align: right;\n",
       "    }\n",
       "</style>\n",
       "<table border=\"1\" class=\"dataframe\">\n",
       "  <thead>\n",
       "    <tr style=\"text-align: right;\">\n",
       "      <th></th>\n",
       "      <th>id</th>\n",
       "      <th>title</th>\n",
       "      <th>authors</th>\n",
       "      <th>year</th>\n",
       "      <th>venue</th>\n",
       "      <th>references</th>\n",
       "    </tr>\n",
       "  </thead>\n",
       "  <tbody>\n",
       "    <tr>\n",
       "      <th>0</th>\n",
       "      <td>555036b37cea80f954149ffc</td>\n",
       "      <td>Approximate Distance Oracles with Improved Que...</td>\n",
       "      <td>[Christian Wulff-Nilsen]</td>\n",
       "      <td>2015</td>\n",
       "      <td>Encyclopedia of Algorithms</td>\n",
       "      <td>NaN</td>\n",
       "    </tr>\n",
       "    <tr>\n",
       "      <th>1</th>\n",
       "      <td>555036b37cea80f954149ffd</td>\n",
       "      <td>Subset Sum Algorithm for Bin Packing.</td>\n",
       "      <td>[Julián Mestre]</td>\n",
       "      <td>2015</td>\n",
       "      <td>Encyclopedia of Algorithms</td>\n",
       "      <td>NaN</td>\n",
       "    </tr>\n",
       "    <tr>\n",
       "      <th>2</th>\n",
       "      <td>555036b37cea80f954149ffe</td>\n",
       "      <td>Minimum Weighted Completion Time.</td>\n",
       "      <td>[V. S. Anil Kumar, Madhav V. Marathe, Srinivas...</td>\n",
       "      <td>2015</td>\n",
       "      <td>Encyclopedia of Algorithms</td>\n",
       "      <td>NaN</td>\n",
       "    </tr>\n",
       "    <tr>\n",
       "      <th>3</th>\n",
       "      <td>555036b37cea80f954149fff</td>\n",
       "      <td>Multiple String Matching.</td>\n",
       "      <td>[Maxime Crochemore, Thierry Lecroq]</td>\n",
       "      <td>2015</td>\n",
       "      <td>Encyclopedia of Algorithms</td>\n",
       "      <td>NaN</td>\n",
       "    </tr>\n",
       "    <tr>\n",
       "      <th>4</th>\n",
       "      <td>555036b37cea80f95414a000</td>\n",
       "      <td>Fault-Tolerant Connected Dominating Set.</td>\n",
       "      <td>[Donghyun Kim, Wei Wang, Weili Wu, Alade O. To...</td>\n",
       "      <td>2015</td>\n",
       "      <td>Encyclopedia of Algorithms</td>\n",
       "      <td>NaN</td>\n",
       "    </tr>\n",
       "  </tbody>\n",
       "</table>\n",
       "</div>"
      ],
      "text/plain": [
       "                         id  \\\n",
       "0  555036b37cea80f954149ffc   \n",
       "1  555036b37cea80f954149ffd   \n",
       "2  555036b37cea80f954149ffe   \n",
       "3  555036b37cea80f954149fff   \n",
       "4  555036b37cea80f95414a000   \n",
       "\n",
       "                                               title  \\\n",
       "0  Approximate Distance Oracles with Improved Que...   \n",
       "1              Subset Sum Algorithm for Bin Packing.   \n",
       "2                  Minimum Weighted Completion Time.   \n",
       "3                          Multiple String Matching.   \n",
       "4           Fault-Tolerant Connected Dominating Set.   \n",
       "\n",
       "                                             authors  year  \\\n",
       "0                           [Christian Wulff-Nilsen]  2015   \n",
       "1                                    [Julián Mestre]  2015   \n",
       "2  [V. S. Anil Kumar, Madhav V. Marathe, Srinivas...  2015   \n",
       "3                [Maxime Crochemore, Thierry Lecroq]  2015   \n",
       "4  [Donghyun Kim, Wei Wang, Weili Wu, Alade O. To...  2015   \n",
       "\n",
       "                        venue references  \n",
       "0  Encyclopedia of Algorithms        NaN  \n",
       "1  Encyclopedia of Algorithms        NaN  \n",
       "2  Encyclopedia of Algorithms        NaN  \n",
       "3  Encyclopedia of Algorithms        NaN  \n",
       "4  Encyclopedia of Algorithms        NaN  "
      ]
     },
     "execution_count": 6,
     "metadata": {},
     "output_type": "execute_result"
    }
   ],
   "source": [
    "df_combined.head()"
   ]
  },
  {
   "cell_type": "code",
   "execution_count": 7,
   "metadata": {},
   "outputs": [
    {
     "data": {
      "text/html": [
       "<div>\n",
       "<style scoped>\n",
       "    .dataframe tbody tr th:only-of-type {\n",
       "        vertical-align: middle;\n",
       "    }\n",
       "\n",
       "    .dataframe tbody tr th {\n",
       "        vertical-align: top;\n",
       "    }\n",
       "\n",
       "    .dataframe thead th {\n",
       "        text-align: right;\n",
       "    }\n",
       "</style>\n",
       "<table border=\"1\" class=\"dataframe\">\n",
       "  <thead>\n",
       "    <tr style=\"text-align: right;\">\n",
       "      <th></th>\n",
       "      <th>id</th>\n",
       "      <th>title</th>\n",
       "      <th>authors</th>\n",
       "      <th>year</th>\n",
       "      <th>venue</th>\n",
       "      <th>references</th>\n",
       "    </tr>\n",
       "  </thead>\n",
       "  <tbody>\n",
       "    <tr>\n",
       "      <th>321825</th>\n",
       "      <td>5736953f6e3b12023e46e080</td>\n",
       "      <td>Seven Steps to Rendezvous with the Casual User.</td>\n",
       "      <td>[E. F. Codd]</td>\n",
       "      <td>1974</td>\n",
       "      <td>IFIP Working Conference Data Base Management</td>\n",
       "      <td>[5736955c6e3b12023e484b89, 5736955d6e3b12023e4...</td>\n",
       "    </tr>\n",
       "    <tr>\n",
       "      <th>321826</th>\n",
       "      <td>5736953f6e3b12023e46e081</td>\n",
       "      <td>Interactive Support for Non-Programmers: The R...</td>\n",
       "      <td>[E. F. Codd, C. J. Date]</td>\n",
       "      <td>1974</td>\n",
       "      <td>IBM Research Report, San Jose, California</td>\n",
       "      <td>[5736972c6e3b12023e61e097]</td>\n",
       "    </tr>\n",
       "    <tr>\n",
       "      <th>321827</th>\n",
       "      <td>5736953f6e3b12023e46e082</td>\n",
       "      <td>Common Subexpression Identification in General...</td>\n",
       "      <td>[Patrick A. V. Hall]</td>\n",
       "      <td>1974</td>\n",
       "      <td>Technical Rep. UKSC 0060, IBM United Kingdom S...</td>\n",
       "      <td>[5736955d6e3b12023e484d00, 573696856e3b12023e5...</td>\n",
       "    </tr>\n",
       "    <tr>\n",
       "      <th>321829</th>\n",
       "      <td>5736953f6e3b12023e46e084</td>\n",
       "      <td>Principles of Distributed Object Database Lang...</td>\n",
       "      <td>[Markus Tresch]</td>\n",
       "      <td>1996</td>\n",
       "      <td>technical Report 248, ETH Zürich, Dept. of Com...</td>\n",
       "      <td>[5736972c6e3b12023e61df67]</td>\n",
       "    </tr>\n",
       "    <tr>\n",
       "      <th>321830</th>\n",
       "      <td>5736953f6e3b12023e46e085</td>\n",
       "      <td>Relational Completeness of Data Base Sublangua...</td>\n",
       "      <td>[E. F. Codd]</td>\n",
       "      <td>1972</td>\n",
       "      <td>In: R. Rustin (ed.): Database Systems: 65-98, ...</td>\n",
       "      <td>[5736955c6e3b12023e484b50, 5736955c6e3b12023e4...</td>\n",
       "    </tr>\n",
       "  </tbody>\n",
       "</table>\n",
       "</div>"
      ],
      "text/plain": [
       "                              id  \\\n",
       "321825  5736953f6e3b12023e46e080   \n",
       "321826  5736953f6e3b12023e46e081   \n",
       "321827  5736953f6e3b12023e46e082   \n",
       "321829  5736953f6e3b12023e46e084   \n",
       "321830  5736953f6e3b12023e46e085   \n",
       "\n",
       "                                                    title  \\\n",
       "321825    Seven Steps to Rendezvous with the Casual User.   \n",
       "321826  Interactive Support for Non-Programmers: The R...   \n",
       "321827  Common Subexpression Identification in General...   \n",
       "321829  Principles of Distributed Object Database Lang...   \n",
       "321830  Relational Completeness of Data Base Sublangua...   \n",
       "\n",
       "                         authors  year  \\\n",
       "321825              [E. F. Codd]  1974   \n",
       "321826  [E. F. Codd, C. J. Date]  1974   \n",
       "321827      [Patrick A. V. Hall]  1974   \n",
       "321829           [Markus Tresch]  1996   \n",
       "321830              [E. F. Codd]  1972   \n",
       "\n",
       "                                                    venue  \\\n",
       "321825       IFIP Working Conference Data Base Management   \n",
       "321826          IBM Research Report, San Jose, California   \n",
       "321827  Technical Rep. UKSC 0060, IBM United Kingdom S...   \n",
       "321829  technical Report 248, ETH Zürich, Dept. of Com...   \n",
       "321830  In: R. Rustin (ed.): Database Systems: 65-98, ...   \n",
       "\n",
       "                                               references  \n",
       "321825  [5736955c6e3b12023e484b89, 5736955d6e3b12023e4...  \n",
       "321826                         [5736972c6e3b12023e61e097]  \n",
       "321827  [5736955d6e3b12023e484d00, 573696856e3b12023e5...  \n",
       "321829                         [5736972c6e3b12023e61df67]  \n",
       "321830  [5736955c6e3b12023e484b50, 5736955c6e3b12023e4...  "
      ]
     },
     "execution_count": 7,
     "metadata": {},
     "output_type": "execute_result"
    }
   ],
   "source": [
    "df_no_nan = df_combined.dropna()\n",
    "df_no_nan.head()"
   ]
  },
  {
   "cell_type": "markdown",
   "metadata": {},
   "source": [
    "## 3. Count NaN values"
   ]
  },
  {
   "cell_type": "code",
   "execution_count": 8,
   "metadata": {},
   "outputs": [
    {
     "name": "stdout",
     "output_type": "stream",
     "text": [
      "id                  0\n",
      "title               0\n",
      "authors         52010\n",
      "year                0\n",
      "venue           56785\n",
      "references    1906376\n",
      "dtype: int64\n"
     ]
    }
   ],
   "source": [
    "nan_counts = df_combined.isna().sum()\n",
    "print(nan_counts)"
   ]
  },
  {
   "cell_type": "markdown",
   "metadata": {},
   "source": [
    "## 4. Plot the distribution of list columns"
   ]
  },
  {
   "cell_type": "code",
   "execution_count": 9,
   "metadata": {},
   "outputs": [
    {
     "name": "stdout",
     "output_type": "stream",
     "text": [
      "count    3.680007e+06\n",
      "mean     2.836479e+00\n",
      "std      1.748325e+00\n",
      "min      0.000000e+00\n",
      "25%      2.000000e+00\n",
      "50%      3.000000e+00\n",
      "75%      4.000000e+00\n",
      "max      1.390000e+02\n",
      "Name: num_authors, dtype: float64\n",
      "count    3.680007e+06\n",
      "mean     5.097998e-01\n",
      "std      1.294739e+00\n",
      "min      0.000000e+00\n",
      "25%      0.000000e+00\n",
      "50%      0.000000e+00\n",
      "75%      1.000000e+00\n",
      "max      6.090000e+02\n",
      "Name: num_references, dtype: float64\n"
     ]
    }
   ],
   "source": [
    "# Ensure that NaN values are handled by converting them to empty lists\n",
    "df_combined['authors'] = df_combined['authors'].apply(lambda x: x if isinstance(x, list) else [])\n",
    "df_combined['references'] = df_combined['references'].apply(lambda x: x if isinstance(x, list) else [])\n",
    "\n",
    "# Calculate the number of authors and references for each row\n",
    "df_combined['num_authors'] = df_combined['authors'].apply(len)\n",
    "df_combined['num_references'] = df_combined['references'].apply(len)\n",
    "\n",
    "# Calculate basic statistics\n",
    "print(df_combined['num_authors'].describe())\n",
    "print(df_combined['num_references'].describe())"
   ]
  },
  {
   "cell_type": "code",
   "execution_count": 10,
   "metadata": {},
   "outputs": [
    {
     "name": "stdout",
     "output_type": "stream",
     "text": [
      "count    3.626640e+06\n",
      "mean     2.867512e+00\n",
      "std      1.640951e+00\n",
      "min      1.000000e+00\n",
      "25%      2.000000e+00\n",
      "50%      3.000000e+00\n",
      "75%      4.000000e+00\n",
      "max      2.000000e+01\n",
      "Name: num_authors, dtype: float64\n"
     ]
    },
    {
     "data": {
      "image/png": "[encoded data removed]",
      "text/plain": [
       "<Figure size 640x480 with 1 Axes>"
      ]
     },
     "metadata": {},
     "output_type": "display_data"
    }
   ],
   "source": [
    "df_filtered_authors = df_combined[(df_combined['num_authors'] > 0) & (df_combined['num_authors'] <= 20)]\n",
    "print(df_filtered_authors[\"num_authors\"].describe())\n",
    "\n",
    "# Plot the distribution of the number of authors\n",
    "sns.histplot(df_filtered_authors['num_authors'], color='blue', bins=20)\n",
    "plt.title('Distribution of Number of Authors')\n",
    "plt.xlabel('Number of Authors')\n",
    "plt.ylabel('Frequency')\n",
    "plt.tight_layout()\n",
    "plt.show()"
   ]
  },
  {
   "cell_type": "code",
   "execution_count": 11,
   "metadata": {},
   "outputs": [
    {
     "name": "stdout",
     "output_type": "stream",
     "text": [
      "count    3.679928e+06\n",
      "mean     5.061042e-01\n",
      "std      9.114581e-01\n",
      "min      0.000000e+00\n",
      "25%      0.000000e+00\n",
      "50%      0.000000e+00\n",
      "75%      1.000000e+00\n",
      "max      9.900000e+01\n",
      "Name: num_references, dtype: float64\n"
     ]
    },
    {
     "data": {
      "image/png": "[encoded data removed]",
      "text/plain": [
       "<Figure size 640x480 with 1 Axes>"
      ]
     },
     "metadata": {},
     "output_type": "display_data"
    }
   ],
   "source": [
    "df_filtered_references = df_combined[(df_combined['num_references'] >= 0) & (df_combined['num_references'] <= 100)]\n",
    "print(df_filtered_references[\"num_references\"].describe())\n",
    "\n",
    "# Plot the distribution of the number of references\n",
    "sns.histplot(df_filtered_references['num_references'], color='green', bins=100)\n",
    "plt.title('Distribution of Number of References')\n",
    "plt.xlabel('Number of References')\n",
    "plt.ylabel('Frequency')\n",
    "plt.yscale(\"log\")\n",
    "plt.tight_layout()\n",
    "plt.show()"
   ]
  }
 ],
 "metadata": {
  "kernelspec": {
   "display_name": "Python 3",
   "language": "python",
   "name": "python3"
  },
  "language_info": {
   "codemirror_mode": {
    "name": "ipython",
    "version": 3
   },
   "file_extension": ".py",
   "mimetype": "text/x-python",
   "name": "python",
   "nbconvert_exporter": "python",
   "pygments_lexer": "ipython3",
   "version": "3.11.9"
  }
 },
 "nbformat": 4,
 "nbformat_minor": 2
}
